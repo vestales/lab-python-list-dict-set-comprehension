{
 "cells": [
  {
   "cell_type": "markdown",
   "id": "25d7736c-ba17-4aff-b6bb-66eba20fbf4e",
   "metadata": {},
   "source": [
    "# Lab | List, Dict and Set Comprehension"
   ]
  },
  {
   "cell_type": "markdown",
   "id": "7dd3cbde-675a-4b81-92c3-f728846dbe06",
   "metadata": {},
   "source": [
    "## Exercise: Managing Customer Orders Optimized with Comprehension"
   ]
  },
  {
   "cell_type": "markdown",
   "id": "5d500160-2fb7-4777-b5e4-09d45ebaf328",
   "metadata": {},
   "source": [
    "In the previous exercise, you developed a program to manage customer orders and inventory. Now, let's take it a step further and incorporate comprehension into your code.\n",
    "\n",
    "Follow the steps below to complete the exercise:\n",
    "\n",
    "1. Review your code from the previous exercise and identify areas where you can apply comprehension to simplify and streamline your code. \n",
    "\n",
    "    - *Hint: Apply it to initialize inventory, updating the inventory and printing the updated inventory.*\n",
    "    \n",
    "    - For example, in initializing the inventory, we could have:\n",
    "    \n",
    "        ```python\n",
    "        def initialize_inventory(products):\n",
    "            inventory = {product: int(input(f\"Enter the quantity of {product}s available: \")) for product in products}\n",
    "            return inventory\n",
    "\n",
    "        ```\n",
    "<br>\n",
    "    \n",
    "    \n",
    "2. Modify the function get_customer_orders so it prompts the user to enter the number of customer orders and gathers the product names using a loop and user input. Use comprehension.\n",
    "\n",
    "3. Add a new function to calculate the total price of the customer order. For each product in customer_orders, prompt the user to enter the price of that product. Use comprehension to calculate the total price. Note: assume that the user can only have 1 unit of each product.\n",
    "\n",
    "4. Modify the update_inventory function to remove the product from the inventory if its quantity becomes zero after fulfilling the customer orders. Use comprehension to filter out the products with a quantity of zero from the inventory.\n",
    "\n",
    "5. Print the total price of the customer order.\n",
    "\n",
    "Your code should produce output similar to the following:\n",
    "\n",
    "```python\n",
    "Enter the quantity of t-shirts available:  5\n",
    "Enter the quantity of mugs available:  4\n",
    "Enter the quantity of hats available:  3\n",
    "Enter the quantity of books available:  2\n",
    "Enter the quantity of keychains available:  1\n",
    "Enter the number of customer orders:  2\n",
    "Enter the name of a product that a customer wants to order:  hat\n",
    "Enter the name of a product that a customer wants to order:  keychain\n",
    "\n",
    "Order Statistics:\n",
    "Total Products Ordered: 2\n",
    "Percentage of Unique Products Ordered: 40.0\n",
    "\n",
    "Updated Inventory:\n",
    "t-shirt: 5\n",
    "mug: 4\n",
    "hat: 2\n",
    "book: 2\n",
    "Enter the price of keychain:  5\n",
    "Enter the price of hat:  10\n",
    "Total Price: 15.0\n",
    "\n",
    "```\n"
   ]
  },
  {
   "cell_type": "code",
   "execution_count": 22,
   "id": "80b4a114",
   "metadata": {},
   "outputs": [],
   "source": [
    "def initialize_inventory (products):\n",
    "#definimos el inventario y pedimos que introduzcan la cantidad de articulos que hay\n",
    "\n",
    "    inventory = {product: int(input(f\"How many {product} are in stock?\").strip()) for product in products}\n",
    "\n",
    "    \"\"\"for product in products:\n",
    "        inventory[product] = int(input(f\"How many {product} are in stock?\").strip())\"\"\"\n",
    "    \n",
    "    \n",
    "\n",
    "    return inventory"
   ]
  },
  {
   "cell_type": "code",
   "execution_count": 23,
   "id": "caf78505",
   "metadata": {},
   "outputs": [],
   "source": [
    "def get_customer_orders ():\n",
    "\n",
    "    #le pedimos al cliente que objetos quiere comprar\n",
    "\n",
    "\n",
    "    amount = int(input(\"How many products are you going to order??\").strip())\n",
    "\n",
    "    customer_orders = [ input(\"What item do you want to buy?\").strip() for item in range(amount)]\n",
    "\n",
    "    \"\"\"\n",
    "    while True:\n",
    "        item=input(\"What item do you want to buy?\").strip()\n",
    "        customer_orders.add(item)\n",
    "        opcion = input(\"Do you buy another product? (Y/N)\").strip().lower()\n",
    "        if opcion == \"n\":\n",
    "            break\n",
    "    \"\"\"\n",
    "\n",
    "\n",
    "    return customer_orders"
   ]
  },
  {
   "cell_type": "code",
   "execution_count": 24,
   "id": "7e6accdb",
   "metadata": {},
   "outputs": [],
   "source": [
    "def update_inventory (customer_orders, inventory):\n",
    "#quitamos del inventario los productos pedidos\n",
    "    \n",
    "    for product in customer_orders:\n",
    "        inventory[product] -= 1\n",
    "\n",
    "    cero_invetory = [key for key, value in inventory.items() if value == 0]\n",
    "\n",
    "    for item in cero_invetory:\n",
    "        del(inventory[item])\n",
    "\n",
    "    return inventory"
   ]
  },
  {
   "cell_type": "code",
   "execution_count": 25,
   "id": "4f2203d9",
   "metadata": {},
   "outputs": [],
   "source": [
    "def calculate_order_statistics (customer_orders, products):\n",
    "#calculamos el porcentaje de productos pedidos en comparación con el total de productos \n",
    "\n",
    "    total_products_ordered = len(customer_orders)\n",
    "    percentage_ordered = (total_products_ordered / len(products)) * 100\n",
    "    order_statistics = (total_products_ordered, percentage_ordered)\n",
    "    return order_statistics"
   ]
  },
  {
   "cell_type": "code",
   "execution_count": 26,
   "id": "8e4ccdba",
   "metadata": {},
   "outputs": [],
   "source": [
    "def print_order_statistics(order_statistics):\n",
    "#imprimimos el porcentaje de productos pedidos en comparación con el total de productos\n",
    "\n",
    "    print(\"Order Statistics:\")\n",
    "    print(\"Total Products Ordered:\", order_statistics[0])\n",
    "    print(\"Percentage of Unique Products Ordered:\", order_statistics[1])"
   ]
  },
  {
   "cell_type": "code",
   "execution_count": 27,
   "id": "f605f747",
   "metadata": {},
   "outputs": [],
   "source": [
    "def print_updated_inventory (inventory):\n",
    "#imprimimos todo el inventario una vez actualizado\n",
    "\n",
    "    print(\"Updated Inventory:\")\n",
    "    for product in inventory:\n",
    "        print(f\"{product}:\", inventory[product])"
   ]
  },
  {
   "cell_type": "code",
   "execution_count": 28,
   "id": "74816832",
   "metadata": {},
   "outputs": [],
   "source": [
    "def calculate_the_total_price(customer_orders):\n",
    "\n",
    "    prices =  {int(input(f\"What is the price the {item}?\").strip()) for item in customer_orders}\n",
    "\n",
    "    total_price = sum(prices)\n",
    "\n",
    "    print(f\"The price total: {total_price}\") "
   ]
  },
  {
   "cell_type": "code",
   "execution_count": 29,
   "id": "e9b35171",
   "metadata": {},
   "outputs": [
    {
     "name": "stdout",
     "output_type": "stream",
     "text": [
      "The price total: 15\n",
      "Order Statistics:\n",
      "Total Products Ordered: 2\n",
      "Percentage of Unique Products Ordered: 40.0\n",
      "Updated Inventory:\n",
      "t-shirt: 2\n",
      "hat: 1\n",
      "book: 1\n",
      "keychain: 2\n"
     ]
    }
   ],
   "source": [
    "#definimos la lista de productos\n",
    "products = [\"t-shirt\", \"mug\", \"hat\", \"book\", \"keychain\"]\n",
    "\n",
    "#llamamos a las funciones\n",
    "\n",
    "inventory = initialize_inventory(products)\n",
    "\n",
    "customer_orders = get_customer_orders()\n",
    "\n",
    "inventory = update_inventory(customer_orders, inventory)\n",
    "\n",
    "order_statistics = calculate_order_statistics (customer_orders, products)\n",
    "\n",
    "print_order_statistics(order_statistics)\n",
    "\n",
    "calculate_the_total_price(customer_orders)\n",
    "\n",
    "print_updated_inventory (inventory)"
   ]
  }
 ],
 "metadata": {
  "kernelspec": {
   "display_name": "Python 3 (ipykernel)",
   "language": "python",
   "name": "python3"
  },
  "language_info": {
   "codemirror_mode": {
    "name": "ipython",
    "version": 3
   },
   "file_extension": ".py",
   "mimetype": "text/x-python",
   "name": "python",
   "nbconvert_exporter": "python",
   "pygments_lexer": "ipython3",
   "version": "3.11.7"
  }
 },
 "nbformat": 4,
 "nbformat_minor": 5
}
